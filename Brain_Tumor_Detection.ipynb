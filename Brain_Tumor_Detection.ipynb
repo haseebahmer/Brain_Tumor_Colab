{
  "cells": [
    {
      "cell_type": "markdown",
      "metadata": {
        "id": "view-in-github",
        "colab_type": "text"
      },
      "source": [
        "<a href=\"https://colab.research.google.com/github/haseebahmer/Brain_Tumor_Colab/blob/main/Brain_Tumor_Detection.ipynb\" target=\"_parent\"><img src=\"https://colab.research.google.com/assets/colab-badge.svg\" alt=\"Open In Colab\"/></a>"
      ]
    },
    {
      "cell_type": "code",
      "execution_count": null,
      "metadata": {
        "colab": {
          "base_uri": "https://localhost:8080/"
        },
        "id": "rWw4gXQgDvzV",
        "outputId": "d36524b5-6709-4d51-84a3-aba71e48ebd0"
      },
      "outputs": [
        {
          "name": "stdout",
          "output_type": "stream",
          "text": [
            "Drive already mounted at /content/drive; to attempt to forcibly remount, call drive.mount(\"/content/drive\", force_remount=True).\n"
          ]
        }
      ],
      "source": [
        "from google.colab import drive\n",
        "drive.mount('/content/drive')\n",
        "\n",
        "import torch\n",
        "import numpy as np\n",
        "import torch.nn as nn\n",
        "import torch.optim as optim\n",
        "from torch.utils.data import DataLoader, Dataset\n",
        "from torchvision import models, transforms\n",
        "from PIL import Image\n",
        "import os\n",
        "from sklearn.metrics import accuracy_score, precision_score, recall_score, confusion_matrix\n",
        "from sklearn.model_selection import train_test_split"
      ]
    },
    {
      "cell_type": "code",
      "execution_count": null,
      "metadata": {
        "id": "bdCTmzWVNA8f"
      },
      "outputs": [],
      "source": [
        "class SimpleBrainTumorDataset(Dataset):\n",
        "    def __init__(self, yes_dir, no_dir, transform=None):\n",
        "        self.transform = transform\n",
        "        self.images = []\n",
        "        self.labels = []\n",
        "        self._load_images(yes_dir, label=1)  # 1 for tumor present\n",
        "        self._load_images(no_dir, label=0)   # 0 for no tumor\n",
        "\n",
        "    def _load_images(self, directory, label):\n",
        "        for filename in os.listdir(directory):\n",
        "            if filename.endswith(('.jpg', '.jpeg', '.png')):\n",
        "                self.images.append(os.path.join(directory, filename))\n",
        "                self.labels.append(label)\n",
        "\n",
        "    def __len__(self):\n",
        "        return len(self.images)\n",
        "\n",
        "    def __getitem__(self, idx):\n",
        "        image = Image.open(self.images[idx]).convert('RGB')\n",
        "        label = self.labels[idx]\n",
        "        if self.transform:\n",
        "            image = self.transform(image)\n",
        "        return image, label"
      ]
    },
    {
      "cell_type": "code",
      "execution_count": null,
      "metadata": {
        "id": "ImmjJJGoN3sk"
      },
      "outputs": [],
      "source": [
        "transform = transforms.Compose([\n",
        "    transforms.Resize((224, 224)),\n",
        "    transforms.ToTensor(),\n",
        "    transforms.Normalize(mean=[0.485, 0.456, 0.406], std=[0.229, 0.224, 0.225])\n",
        "])"
      ]
    },
    {
      "cell_type": "code",
      "execution_count": null,
      "metadata": {
        "id": "wAc0OYRTN9aC"
      },
      "outputs": [],
      "source": [
        "yes_dir = '/content/drive/MyDrive/yes'  # Update these paths\n",
        "no_dir = '/content/drive/MyDrive/no'    # Update these paths\n"
      ]
    },
    {
      "cell_type": "code",
      "execution_count": null,
      "metadata": {
        "colab": {
          "base_uri": "https://localhost:8080/",
          "height": 36
        },
        "id": "bH83JbN8OXQl",
        "outputId": "09227a48-6fa8-4c69-cf55-e9f8ddd5df31"
      },
      "outputs": [
        {
          "data": {
            "application/vnd.google.colaboratory.intrinsic+json": {
              "type": "string"
            },
            "text/plain": [
              "'/content/drive/MyDrive/yes'"
            ]
          },
          "metadata": {},
          "output_type": "display_data"
        }
      ],
      "source": [
        "display(yes_dir)"
      ]
    },
    {
      "cell_type": "code",
      "execution_count": null,
      "metadata": {
        "id": "YahcMz31Oiwv"
      },
      "outputs": [],
      "source": [
        "dataset = SimpleBrainTumorDataset(yes_dir=yes_dir, no_dir=no_dir, transform=transform)\n"
      ]
    },
    {
      "cell_type": "code",
      "execution_count": null,
      "metadata": {
        "id": "2WBRJP5-gxtI"
      },
      "outputs": [],
      "source": [
        "train_dataset, test_dataset = train_test_split(dataset, test_size=0.2, random_state=42)\n"
      ]
    },
    {
      "cell_type": "code",
      "execution_count": null,
      "metadata": {
        "id": "_sxMr7sBgAlP"
      },
      "outputs": [],
      "source": [
        "train_loader = DataLoader(train_dataset, batch_size=32, shuffle=True)\n",
        "test_loader = DataLoader(test_dataset, batch_size=32, shuffle=False)\n"
      ]
    },
    {
      "cell_type": "code",
      "execution_count": null,
      "metadata": {
        "id": "URlSc-tcQ7I5"
      },
      "outputs": [],
      "source": [
        "class SimpleANN(nn.Module):\n",
        "    def __init__(self):\n",
        "        super(SimpleANN, self).__init__()\n",
        "        self.fc1 = nn.Linear(224*224*3, 512)\n",
        "        self.dropout1 = nn.Dropout(0.5)\n",
        "        self.fc2 = nn.Linear(512, 128)\n",
        "        self.dropout2 = nn.Dropout(0.5)\n",
        "        self.fc3 = nn.Linear(128, 2)\n",
        "\n",
        "    def forward(self, x):\n",
        "        x = self.flatten(x)  # Flatten the input\n",
        "        x = torch.relu(self.fc1(x))\n",
        "        x = self.dropout1(x)\n",
        "        x = torch.relu(self.fc2(x))\n",
        "        x = self.dropout2(x)\n",
        "        return self.fc3(x)\n",
        "\n",
        "# Function to create VGG16 model\n",
        "def create_vgg_model():\n",
        "    model = models.vgg16(pretrained=True)\n",
        "    for param in model.parameters():\n",
        "        param.requires_grad = False\n",
        "    model.classifier[6] = nn.Linear(model.classifier[6].in_features, 2)\n",
        "    return model\n",
        "\n",
        "# Function to create ResNet18 model\n",
        "def create_resnet_model():\n",
        "    model = models.resnet18(pretrained=True)\n",
        "    for param in model.parameters():\n",
        "        param.requires_grad = False\n",
        "    model.fc = nn.Linear(model.fc.in_features, 2)\n",
        "    return model"
      ]
    },
    {
      "cell_type": "code",
      "execution_count": null,
      "metadata": {
        "colab": {
          "base_uri": "https://localhost:8080/"
        },
        "id": "aiyZccfZRbUW",
        "outputId": "4e1a2a83-c887-41b4-8ec0-6549f9313981"
      },
      "outputs": [
        {
          "name": "stderr",
          "output_type": "stream",
          "text": [
            "/usr/local/lib/python3.10/dist-packages/torchvision/models/_utils.py:208: UserWarning: The parameter 'pretrained' is deprecated since 0.13 and may be removed in the future, please use 'weights' instead.\n",
            "  warnings.warn(\n",
            "/usr/local/lib/python3.10/dist-packages/torchvision/models/_utils.py:223: UserWarning: Arguments other than a weight enum or `None` for 'weights' are deprecated since 0.13 and may be removed in the future. The current behavior is equivalent to passing `weights=VGG16_Weights.IMAGENET1K_V1`. You can also use `weights=VGG16_Weights.DEFAULT` to get the most up-to-date weights.\n",
            "  warnings.warn(msg)\n",
            "/usr/local/lib/python3.10/dist-packages/torchvision/models/_utils.py:223: UserWarning: Arguments other than a weight enum or `None` for 'weights' are deprecated since 0.13 and may be removed in the future. The current behavior is equivalent to passing `weights=ResNet18_Weights.IMAGENET1K_V1`. You can also use `weights=ResNet18_Weights.DEFAULT` to get the most up-to-date weights.\n",
            "  warnings.warn(msg)\n"
          ]
        }
      ],
      "source": [
        "device = torch.device(\"cuda\" if torch.cuda.is_available() else \"cpu\")\n",
        "models = {\n",
        "    \"SimpleANN\": SimpleANN().to(device),\n",
        "    \"VGG16\": create_vgg_model().to(device),\n",
        "    \"ResNet18\": create_resnet_model().to(device)\n",
        "}\n"
      ]
    },
    {
      "cell_type": "code",
      "execution_count": null,
      "metadata": {
        "id": "IsL3WlIbSMs6"
      },
      "outputs": [],
      "source": [
        "def train_model(model, loader, criterion, optimizer, epochs=10):\n",
        "    model.train()\n",
        "    for epoch in range(epochs):\n",
        "        running_loss = 0.0\n",
        "        for images, labels in loader:\n",
        "            images, labels = images, labels  # Ensure tensors are on the CPU\n",
        "\n",
        "            optimizer.zero_grad()\n",
        "            outputs = model(images)\n",
        "            loss = criterion(outputs, labels)\n",
        "            loss.backward()\n",
        "            optimizer.step()\n",
        "\n",
        "            running_loss += loss.item()\n",
        "\n",
        "        print(f'Epoch {epoch+1}/{epochs}, Loss: {running_loss/len(loader):.4f}')\n"
      ]
    },
    {
      "cell_type": "code",
      "execution_count": null,
      "metadata": {
        "id": "r3jO0XiiSvl0"
      },
      "outputs": [],
      "source": [
        "criterion = nn.CrossEntropyLoss()"
      ]
    },
    {
      "cell_type": "code",
      "execution_count": null,
      "metadata": {
        "colab": {
          "background_save": true,
          "base_uri": "https://localhost:8080/"
        },
        "id": "TIF2g3LsTNHq",
        "outputId": "0fd047e1-ca6e-4952-c7f1-8462e450d83d"
      },
      "outputs": [
        {
          "name": "stdout",
          "output_type": "stream",
          "text": [
            "Training SimpleANN...\n",
            "Epoch 1/10, Loss: 34.8925\n",
            "Epoch 2/10, Loss: 24.0062\n",
            "Epoch 3/10, Loss: 17.4247\n",
            "Epoch 4/10, Loss: 11.2268\n",
            "Epoch 5/10, Loss: 10.8045\n",
            "Epoch 6/10, Loss: 14.1399\n",
            "Epoch 7/10, Loss: 7.6412\n",
            "Epoch 8/10, Loss: 5.9812\n",
            "Epoch 9/10, Loss: 5.2215\n",
            "Epoch 10/10, Loss: 2.9772\n",
            "Training VGG16...\n",
            "Epoch 1/10, Loss: 0.6543\n",
            "Epoch 2/10, Loss: 0.5257\n",
            "Epoch 3/10, Loss: 0.4096\n",
            "Epoch 4/10, Loss: 0.4954\n",
            "Epoch 5/10, Loss: 0.3787\n",
            "Epoch 6/10, Loss: 0.3544\n",
            "Epoch 7/10, Loss: 0.3253\n",
            "Epoch 8/10, Loss: 0.3147\n",
            "Epoch 9/10, Loss: 0.3054\n",
            "Epoch 10/10, Loss: 0.2823\n",
            "Training ResNet18...\n",
            "Epoch 1/10, Loss: 0.9760\n",
            "Epoch 2/10, Loss: 0.7493\n",
            "Epoch 3/10, Loss: 0.6983\n",
            "Epoch 4/10, Loss: 0.6043\n",
            "Epoch 5/10, Loss: 0.5425\n",
            "Epoch 6/10, Loss: 0.5416\n",
            "Epoch 7/10, Loss: 0.4849\n",
            "Epoch 8/10, Loss: 0.4163\n",
            "Epoch 9/10, Loss: 0.4003\n",
            "Epoch 10/10, Loss: 0.3702\n"
          ]
        }
      ],
      "source": [
        "for name, model in models.items():  # Correctly iterate over the dictionary\n",
        "    print(f\"Training {name}...\")\n",
        "    optimizer = optim.Adam(model.parameters(), lr=0.001)\n",
        "    train_model(model, train_loader, criterion, optimizer)\n"
      ]
    },
    {
      "cell_type": "code",
      "execution_count": 42,
      "metadata": {
        "colab": {
          "base_uri": "https://localhost:8080/"
        },
        "id": "0GKoY1LmTOZf",
        "outputId": "9a9d9a56-d2ef-48aa-cbb8-8e08a21cdbbd"
      },
      "outputs": [
        {
          "output_type": "stream",
          "name": "stdout",
          "text": [
            "Evaluating SimpleANN on test data...\n",
            "Accuracy: 0.6944\n",
            "Precision: 0.6207\n",
            "Recall: 1.0000\n",
            "Confusion Matrix:\n",
            "[[ 7 11]\n",
            " [ 0 18]]\n",
            "Evaluating VGG16 on test data...\n",
            "Accuracy: 0.8889\n",
            "Precision: 1.0000\n",
            "Recall: 0.7778\n",
            "Confusion Matrix:\n",
            "[[18  0]\n",
            " [ 4 14]]\n",
            "Evaluating ResNet18 on test data...\n",
            "Accuracy: 0.8611\n",
            "Precision: 0.8095\n",
            "Recall: 0.9444\n",
            "Confusion Matrix:\n",
            "[[14  4]\n",
            " [ 1 17]]\n"
          ]
        }
      ],
      "source": [
        "def evaluate_model(model, loader):\n",
        "    model.eval()\n",
        "    all_labels = []\n",
        "    all_preds = []\n",
        "    with torch.no_grad():\n",
        "        for images, labels in loader:\n",
        "            images, labels = images, labels  # Ensure tensors are on the CPU\n",
        "            outputs = model(images)\n",
        "            _, preds = torch.max(outputs, 1)\n",
        "            all_labels.extend(labels.numpy())\n",
        "            all_preds.extend(preds.numpy())\n",
        "\n",
        "    accuracy = accuracy_score(all_labels, all_preds)\n",
        "    precision = precision_score(all_labels, all_preds)\n",
        "    recall = recall_score(all_labels, all_preds)\n",
        "    cm = confusion_matrix(all_labels, all_preds)\n",
        "\n",
        "    print(f'Accuracy: {accuracy:.4f}')\n",
        "    print(f'Precision: {precision:.4f}')\n",
        "    print(f'Recall: {recall:.4f}')\n",
        "    print(f'Confusion Matrix:\\n{cm}')\n",
        "\n",
        "# Evaluating each model on the test data\n",
        "for name, model in models.items():\n",
        "    print(f\"Evaluating {name} on test data...\")\n",
        "    evaluate_model(model, test_loader)"
      ]
    },
    {
      "cell_type": "code",
      "execution_count": 43,
      "metadata": {
        "id": "9qnUqV62c-Gc"
      },
      "outputs": [],
      "source": [
        "best_model_name = \"VGG16\"\n",
        "torch.save(models[best_model_name].state_dict(), '/content/drive/MyDrive/best_model.pth')"
      ]
    },
    {
      "cell_type": "code",
      "execution_count": null,
      "metadata": {
        "id": "CCYQm5zgWOYf"
      },
      "outputs": [],
      "source": []
    }
  ],
  "metadata": {
    "colab": {
      "provenance": [],
      "mount_file_id": "1jzF935WiMIXpplLKbQGhPQMZR6qNpehp",
      "authorship_tag": "ABX9TyM8mqoxXK2ZAZiStlvby2SN",
      "include_colab_link": true
    },
    "kernelspec": {
      "display_name": "Python 3",
      "name": "python3"
    },
    "language_info": {
      "name": "python"
    }
  },
  "nbformat": 4,
  "nbformat_minor": 0
}
